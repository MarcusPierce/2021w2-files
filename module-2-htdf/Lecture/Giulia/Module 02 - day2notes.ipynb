{
 "cells": [
  {
   "cell_type": "code",
   "execution_count": 1,
   "metadata": {},
   "outputs": [
    {
     "name": "stderr",
     "output_type": "stream",
     "text": [
      "/opt/conda/lib/python3.9/site-packages/_distutils_hack/__init__.py:36: UserWarning: Setuptools is replacing distutils.\n",
      "  warnings.warn(\"Setuptools is replacing distutils.\")\n"
     ]
    }
   ],
   "source": [
    "from cs103 import * # needed (once per notebook) to enable incredible cs103 powers!!"
   ]
  },
  {
   "cell_type": "markdown",
   "metadata": {},
   "source": [
    "***"
   ]
  },
  {
   "cell_type": "markdown",
   "metadata": {},
   "source": [
    "# is_palindrome Quiz Problem\n",
    "\n",
    "**Problem:**: Design a function that takes a string and determines whether it is palindrome or not (a palindrome is a word or phrase that reads the same backwards and forwards - e.g., level)."
   ]
  },
  {
   "cell_type": "code",
   "execution_count": 14,
   "metadata": {},
   "outputs": [
    {
     "name": "stdout",
     "output_type": "stream",
     "text": [
      "\u001b[92m4 of 4 tests passed\u001b[0m\n"
     ]
    }
   ],
   "source": [
    "# Design is_palindrome here.\n",
    "# We already included the signature, TWO possible purposes, and a stub.\n",
    "# We still need: tests/examples, template comment, and body.\n",
    "# Hint: search what [::-1] do to a string\n",
    "\n",
    "@typecheck\n",
    "def is_palindrome(word: str) -> bool:\n",
    "    # Should the purpose be:\n",
    "    \"\"\"\n",
    "    return True if the word is a palindrome, and False otherwise\n",
    "    \"\"\"\n",
    "    # return True  #stub\n",
    "    # return ...(word)  # template\n",
    "    return word == word[::-1]\n",
    "    \n",
    "    \n",
    "# Starting point for any set of tests/examples:\n",
    "start_testing()\n",
    "expect(is_palindrome(\"racecar\"), True)\n",
    "expect(is_palindrome(\"panda\"), False)\n",
    "expect(is_palindrome(\"race car\"), False)\n",
    "expect(is_palindrome(\"Racecar\"), False)\n",
    "summary()\n"
   ]
  },
  {
   "cell_type": "markdown",
   "metadata": {},
   "source": [
    "*******"
   ]
  },
  {
   "cell_type": "markdown",
   "metadata": {},
   "source": [
    "# Multiply a number by 4\n",
    "\n",
    "**Problem**: Design a function that multiplies a number by 4."
   ]
  },
  {
   "cell_type": "code",
   "execution_count": 12,
   "metadata": {},
   "outputs": [
    {
     "name": "stdout",
     "output_type": "stream",
     "text": [
      "\u001b[92m3 of 3 tests passed\u001b[0m\n"
     ]
    }
   ],
   "source": [
    "@typecheck\n",
    "def times4(number: float) -> float:\n",
    "    \"\"\"\n",
    "    Returns number multiplied by 4.\n",
    "    \"\"\"\n",
    "    # return 0.0  # stub\n",
    "    # return ...(number)   # template\n",
    "    result = number * 4\n",
    "    return result\n",
    "\n",
    "start_testing()\n",
    "\n",
    "expect(times4(0), 0 * 4)\n",
    "expect(times4(2.5), 2.5 * 4)\n",
    "expect(times4(-0.13), -0.13 * 4)\n",
    "\n",
    "summary()"
   ]
  },
  {
   "cell_type": "code",
   "execution_count": 14,
   "metadata": {},
   "outputs": [
    {
     "data": {
      "text/plain": [
       "20"
      ]
     },
     "execution_count": 14,
     "metadata": {},
     "output_type": "execute_result"
    }
   ],
   "source": [
    "var = times4(5)\n",
    "var"
   ]
  },
  {
   "cell_type": "markdown",
   "metadata": {},
   "source": [
    "___"
   ]
  },
  {
   "cell_type": "markdown",
   "metadata": {},
   "source": [
    "# Discount\n",
    "\n",
    "**Problem:** A store gives 5% off the most expensive product and 10% off the second most expensive product. Design a program that calculates the final purchase price of two products."
   ]
  },
  {
   "cell_type": "code",
   "execution_count": 16,
   "metadata": {},
   "outputs": [
    {
     "name": "stdout",
     "output_type": "stream",
     "text": [
      "\u001b[92m3 of 3 tests passed\u001b[0m\n"
     ]
    }
   ],
   "source": [
    "@typecheck\n",
    "def discount(price1: float, price2: float) -> float:\n",
    "    \"\"\"\n",
    "    Give a discount of 10% on the smallest value and 5% on the biggest value.\n",
    "    Return the total price of the two items with the discount.\n",
    "    \"\"\"\n",
    "    #return 100.0  #stub\n",
    "    #return ...(price1, price2)  #template\n",
    "    \n",
    "    if price1 > price2:\n",
    "        return price1*(0.95) + price2*(0.9)\n",
    "    else:\n",
    "        return price1*(0.9) + price2*(0.95)\n",
    "\n",
    "start_testing()\n",
    "expect(discount(100, 100), 185)\n",
    "expect(discount(80, 100), 167)\n",
    "expect(discount(82.8, 42.6), 117)\n",
    "summary()"
   ]
  },
  {
   "cell_type": "code",
   "execution_count": 17,
   "metadata": {},
   "outputs": [
    {
     "data": {
      "text/plain": [
       "116.25"
      ]
     },
     "execution_count": 17,
     "metadata": {},
     "output_type": "execute_result"
    }
   ],
   "source": [
    "p1 = 50\n",
    "p2 = 75\n",
    "\n",
    "discount(p1, p2)"
   ]
  },
  {
   "cell_type": "code",
   "execution_count": 20,
   "metadata": {},
   "outputs": [
    {
     "data": {
      "text/plain": [
       "28.0"
      ]
     },
     "execution_count": 20,
     "metadata": {},
     "output_type": "execute_result"
    }
   ],
   "source": [
    "p1 = 20\n",
    "p2 = 10\n",
    "\n",
    "discount(p2, p1)"
   ]
  },
  {
   "cell_type": "markdown",
   "metadata": {},
   "source": [
    "___"
   ]
  },
  {
   "cell_type": "markdown",
   "metadata": {},
   "source": [
    "# CPSC 103 d-tective 😜\n",
    "\n",
    "**Problem:** Design a function that determines if a string starts with\n",
    "the letter *d*."
   ]
  },
  {
   "cell_type": "code",
   "execution_count": 30,
   "metadata": {},
   "outputs": [
    {
     "name": "stdout",
     "output_type": "stream",
     "text": [
      "\u001b[92m6 of 6 tests passed\u001b[0m\n"
     ]
    }
   ],
   "source": [
    "@typecheck\n",
    "def starts_with_d(word: str) -> bool:\n",
    "    \"\"\"\n",
    "    Returns True if the parameter word startes with the letter \"d\" or \"D\", False otherwise \n",
    "    \"\"\"\n",
    "    # return True  # stub\n",
    "    # return ...(word)  # template\n",
    "    if word == \"\":\n",
    "        return False\n",
    "    \n",
    "    return word[0] == \"d\" or word[0] == \"D\"\n",
    "\n",
    "start_testing()\n",
    "\n",
    "expect(starts_with_d(\"Dad\"), True)\n",
    "expect(starts_with_d(\"duck\"), True)\n",
    "expect(starts_with_d(\"Trees\"), False)\n",
    "expect(starts_with_d(\"meow\"), False)\n",
    "expect(starts_with_d(\"...duck\"), False)\n",
    "expect(starts_with_d(\"\"), False)\n",
    "\n",
    "summary()"
   ]
  },
  {
   "cell_type": "code",
   "execution_count": null,
   "metadata": {},
   "outputs": [],
   "source": []
  }
 ],
 "metadata": {
  "kernelspec": {
   "display_name": "Python 3 (ipykernel)",
   "language": "python",
   "name": "python3"
  },
  "language_info": {
   "codemirror_mode": {
    "name": "ipython",
    "version": 3
   },
   "file_extension": ".py",
   "mimetype": "text/x-python",
   "name": "python",
   "nbconvert_exporter": "python",
   "pygments_lexer": "ipython3",
   "version": "3.9.7"
  }
 },
 "nbformat": 4,
 "nbformat_minor": 2
}
