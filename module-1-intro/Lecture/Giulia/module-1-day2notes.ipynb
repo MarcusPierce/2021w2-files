{
 "cells": [
  {
   "cell_type": "code",
   "execution_count": 2,
   "metadata": {},
   "outputs": [],
   "source": [
    "# You must run this cell once before you run any of the other cells in this file\n",
    "\n",
    "# Needed (once per notebook) to enable incredible cs103 powers!!\n",
    "from cs103 import * \n",
    "\n",
    "# This indicates we are going to use some code from the date_fact.py file\n",
    "from date_fact import *"
   ]
  },
  {
   "cell_type": "markdown",
   "metadata": {},
   "source": [
    "# Module 1: Learning Goals\n",
    "\n",
    "At the end of this module, you will be able to:\n",
    "\n",
    "- Write statements that operate on primitive data including numbers, strings and booleans.\n",
    "- Write variable definitions and function definitions.\n",
    "- Write out the step-by-step evaluation of simple statements including function calls.\n",
    "- Use Jupyter notebooks to run Python code.\n"
   ]
  },
  {
   "cell_type": "markdown",
   "metadata": {},
   "source": [
    "## A little about programming\n",
    "\n",
    "A program is a sequence of instructions that allows you to perform a task. If you say the exact sequence of words, you will get the computer to do what you want. It’s a bit like magic!\n",
    "\n",
    "Here are the major pros and cons about programming:\n",
    "- PRO: The program will do exactly what you tell them to do.\n",
    "- CON: The program will do *exactly* what you tell them to do. That is, they do not \"interpret\" sentences like people do and are very finicky when it comes to grammar (syntax).\n",
    "\n",
    "Highly recommended: https://www.youtube.com/playlist?list=PLuXokptvWfg1H7-Vz8nK_LvBILHz_dG5F\n"
   ]
  },
  {
   "cell_type": "markdown",
   "metadata": {},
   "source": [
    "# What happens inside the computer?\n",
    "When our Python code runs, what does it do? Having a model of what happens so we can \"trace what the code will do\" will help us figure out what code to write to accomplish our goals and what's happening when our code goes wrong.\n",
    "\n",
    "It's much more important with these that we trace code on paper than on the computer, but we will eventually run the cell below as well. You can also try the online Python tutor: http://www.pythontutor.com/visualize.html#mode=edit"
   ]
  },
  {
   "cell_type": "code",
   "execution_count": 3,
   "metadata": {},
   "outputs": [],
   "source": [
    "# Let's trace this code to understand what's happening.\n",
    "# To do that, we'll want to draw out the \"memory\" of the computer,\n",
    "# the place with all those slots that hold variables' values.\n",
    "\n",
    "a = 1\n",
    "\n",
    "b = a + 10\n",
    "\n",
    "a = a + 10\n",
    "\n",
    "a == b       # What does this evaluate to?\n",
    "\n",
    "\n",
    "b = a + b\n",
    "\n",
    "a = 100\n",
    "\n",
    "a + b        # What does this evaluate to?"
   ]
  },
  {
   "cell_type": "markdown",
   "metadata": {},
   "source": [
    "So, when we want to understand what code does, we need three things:\n",
    "\n",
    "- The code itself.\n",
    "- Which line of code we're working on now.\n",
    "- The memory of the computer (variables and their values).\n"
   ]
  },
  {
   "cell_type": "markdown",
   "metadata": {},
   "source": [
    "# Exercise\n",
    "- put 10 in variable *a*\n",
    "- put your name in a variable *name*\n",
    "- put 66 in variable *y*\n",
    "- copy value stored in *y* in *x*\n",
    "- put \"y\" in variable *x*\n",
    "- test if *y* is equal to *x*\n",
    "- test if *name* is greater than \"Julia\""
   ]
  },
  {
   "cell_type": "code",
   "execution_count": 17,
   "metadata": {},
   "outputs": [
    {
     "data": {
      "text/plain": [
       "6"
      ]
     },
     "execution_count": 17,
     "metadata": {},
     "output_type": "execute_result"
    }
   ],
   "source": [
    "a = 10\n",
    "\n",
    "name = \"Giulia\"\n",
    "\n",
    "y = 66\n",
    "\n",
    "x = y\n",
    "\n",
    "x = \"y\"\n",
    "\n",
    "y == x\n",
    "\n",
    "name > \"Julia\"  \n",
    "\n",
    "len(name)"
   ]
  },
  {
   "cell_type": "markdown",
   "metadata": {},
   "source": [
    "# Date Facts\n",
    "\n",
    "Let's check some fun facts that happened on a date. We will use the the API http://numbersapi.com/. Think of an API a way for us to communicate with another computer to get the information we need. \n",
    "\n",
    "The code inside the file `date_fact.py` gives us the following functions:\n",
    "\n",
    "- `get_date_fact(month: int, day: int) -> str`\n",
    "\n",
    "\n",
    "- `get_number_fact(number: int) -> str`\n",
    "\n",
    "\n",
    "- `get_year_fact(year: int) -> str`\n",
    "\n",
    "Before we dive in, though, what is a function? \n",
    "\n",
    "We'll define them many ways, and they'll be the heart of everything we do. For now, though, let's say that a function is \"something interesting the Python programming language knows how to do, which we can ask it to do by name\"."
   ]
  },
  {
   "cell_type": "code",
   "execution_count": 3,
   "metadata": {
    "scrolled": true
   },
   "outputs": [
    {
     "data": {
      "text/plain": [
       "'the highest single-digit number in the decimal system'"
      ]
     },
     "execution_count": 3,
     "metadata": {},
     "output_type": "execute_result"
    }
   ],
   "source": [
    "# Get some trivia from the year you were born!\n",
    "\n",
    "# First, take a look at the names of the functions. Out of the three\n",
    "# functions listed above, which one do you think we should use?\n",
    "\n",
    "# Now, look at the signature of the function you have chosen.\n",
    "# What kind of information does it ask for (hint: what parameters are listed\n",
    "# in the signature)?\n",
    "\n",
    "# Try to call (i.e., use) the function!\n",
    "\n",
    "trivia = get_year_fact(2000)\n",
    "\n",
    "get_number_fact(9)\n",
    "\n",
    "# Terminology check: What do you call the value you called the function with?\n",
    "# Answer: The argument."
   ]
  },
  {
   "cell_type": "markdown",
   "metadata": {},
   "source": [
    "# Quick Pause\n",
    "Notice how the output from the function does not include the year. \n",
    "\n",
    "The argument does not necessarily need to be included in the output of a function. We can include it if we want, but it is not mandated.\n",
    "\n",
    "Let's change the output to also include the year."
   ]
  },
  {
   "cell_type": "code",
   "execution_count": 31,
   "metadata": {},
   "outputs": [
    {
     "data": {
      "text/plain": [
       "'In 2005 the military seizes power in Fiji, in a coup d\\'état led by Commodore Josaia Voreqe \"Frank\" Bainimarama'"
      ]
     },
     "execution_count": 31,
     "metadata": {},
     "output_type": "execute_result"
    }
   ],
   "source": [
    "\"In 2005 \" + get_year_fact(2005)"
   ]
  },
  {
   "cell_type": "markdown",
   "metadata": {},
   "source": [
    "# Changing Things Up\n",
    "What happens if we want to find facts from another year?\n",
    "\n",
    "Is there an easier way to change the value of the year without having to remember all the places the year appeared in?"
   ]
  },
  {
   "cell_type": "code",
   "execution_count": 33,
   "metadata": {},
   "outputs": [
    {
     "data": {
      "text/plain": [
       "'In 2004 San Francisco, California begins issuing marriage licenses to same-sex couples in an act of civil disobedience'"
      ]
     },
     "execution_count": 33,
     "metadata": {},
     "output_type": "execute_result"
    }
   ],
   "source": [
    "year = 2004\n",
    "\"In \" + str(year) + \" \" + get_year_fact(year)"
   ]
  },
  {
   "cell_type": "code",
   "execution_count": 37,
   "metadata": {},
   "outputs": [
    {
     "data": {
      "text/plain": [
       "'The product of x and y is 15'"
      ]
     },
     "execution_count": 37,
     "metadata": {},
     "output_type": "execute_result"
    }
   ],
   "source": [
    "x = 5\n",
    "y = 3\n",
    "z = x * y\n",
    "\n",
    "\"The product of x and y is \" + str(z)"
   ]
  },
  {
   "cell_type": "markdown",
   "metadata": {},
   "source": [
    "Check in: https://www.menti.com/zfehpniw4a"
   ]
  },
  {
   "cell_type": "markdown",
   "metadata": {},
   "source": [
    "### Detour: swapping variables"
   ]
  },
  {
   "cell_type": "code",
   "execution_count": 8,
   "metadata": {},
   "outputs": [
    {
     "data": {
      "text/plain": [
       "'x is 1 and y is 8'"
      ]
     },
     "execution_count": 8,
     "metadata": {},
     "output_type": "execute_result"
    }
   ],
   "source": [
    "# Swap the content of x and y\n",
    "\n",
    "x = 5\n",
    "y = 10\n",
    "\n",
    "temp = x # temp is 5\n",
    "x = y    # x is 10\n",
    "y = temp   \n",
    "\n",
    "\"x is \" + str(x) + \" and y is \" + str(y)"
   ]
  },
  {
   "cell_type": "markdown",
   "metadata": {},
   "source": [
    "# What Happened on Your Date of Birth?\n",
    "Write some code to find an event that happened on your birth date. Follow the same steps as before.\n",
    "\n",
    "1. Take a look at the names of the functions. Out of the three functions listed above, which one should we use?\n",
    "2. Take a look at the signature. What kind of information is the function asking for? What kind of data type is it?\n",
    "3. Try to call the function!"
   ]
  },
  {
   "cell_type": "code",
   "execution_count": 13,
   "metadata": {},
   "outputs": [
    {
     "data": {
      "text/plain": [
       "'the Mexican city of León is founded by order of the viceroy Don Martín Enríquez de Almanza'"
      ]
     },
     "execution_count": 13,
     "metadata": {},
     "output_type": "execute_result"
    }
   ],
   "source": [
    "day = 20\n",
    "month = 1\n",
    "\n",
    "get_date_fact(month, day)"
   ]
  },
  {
   "cell_type": "markdown",
   "metadata": {},
   "source": [
    "Now, try to include information about your date of birth before the fun fact! For example, if your birthday was on June 18 and the fact produced for this particular day is \"Shivaji, founder of the Maratha empire is crowned\", your code should produce \"On 6/18 Shivaji, founder of the Maratha empire is crowned\".\n",
    "\n",
    "Can you do this in a way that makes it easy for us to change the values for the birth month and day?"
   ]
  },
  {
   "cell_type": "code",
   "execution_count": 16,
   "metadata": {},
   "outputs": [
    {
     "data": {
      "text/plain": [
       "'On 4/25 Highwayman Nicolas J. Pelletier becomes the first person executed by guillotine'"
      ]
     },
     "execution_count": 16,
     "metadata": {},
     "output_type": "execute_result"
    }
   ],
   "source": [
    "day = 25\n",
    "month = 4\n",
    "\n",
    "\"On \" + str(month) + \"/\" + str(day) + \" \" + get_date_fact(month, day)"
   ]
  },
  {
   "cell_type": "markdown",
   "metadata": {},
   "source": [
    "# Improving on Greatness\n",
    "Let's make the output better. \n",
    "\n",
    "Instead of using numbers to describe a month, let's use the month's name, i.e., instead of 6/18 let's write June 18."
   ]
  },
  {
   "cell_type": "code",
   "execution_count": 20,
   "metadata": {},
   "outputs": [
    {
     "data": {
      "text/plain": [
       "'On Invalid month 25 BDR massacre in Pilkhana, Dhaka, Bangladesh'"
      ]
     },
     "execution_count": 20,
     "metadata": {},
     "output_type": "execute_result"
    }
   ],
   "source": [
    "day = 25\n",
    "month = 14\n",
    "\n",
    "if month == 1:\n",
    "    str_month = \"January\"\n",
    "elif month == 2:\n",
    "    str_month = \"February\"\n",
    "elif month == 3:\n",
    "    str_month = \"March\"\n",
    "elif month == 4:\n",
    "    str_month = \"April\"\n",
    "elif month == 5:\n",
    "    str_month = \"May\"\n",
    "elif month == 6:\n",
    "    str_month = \"June\"\n",
    "elif month == 7:\n",
    "    str_month = \"July\"\n",
    "elif month == 8:\n",
    "    str_month = \"August\"\n",
    "elif month == 9:\n",
    "    str_month = \"September\"\n",
    "elif month == 10:\n",
    "    str_month = \"October\"\n",
    "elif month == 11:\n",
    "    str_month = \"November\"\n",
    "elif month == 12:\n",
    "    str_month = \"December\"\n",
    "else:\n",
    "    str_month = \"Invalid month\"\n",
    "    \n",
    "\"On \" + str_month + \" \" + str(day) + \" \" + get_date_fact(month, day)"
   ]
  },
  {
   "cell_type": "markdown",
   "metadata": {},
   "source": [
    "# From the quiz: sqrt\n",
    "\n",
    "Recall the quiz question 10\n",
    "```\n",
    "x = 9\n",
    "sqrt(9) # a built-in math function that returns the square root of its input\n",
    "```\n",
    "What is the value of x after the function call?"
   ]
  },
  {
   "cell_type": "code",
   "execution_count": 36,
   "metadata": {},
   "outputs": [
    {
     "data": {
      "text/plain": [
       "3.0"
      ]
     },
     "execution_count": 36,
     "metadata": {},
     "output_type": "execute_result"
    }
   ],
   "source": [
    "from math import *\n",
    "\n",
    "x = 9\n",
    "sqrt(9)"
   ]
  },
  {
   "cell_type": "markdown",
   "metadata": {},
   "source": [
    "# Checking the Sign\n",
    "\n",
    "**Problem:** Check if a number is positive or negative."
   ]
  },
  {
   "cell_type": "code",
   "execution_count": 9,
   "metadata": {},
   "outputs": [
    {
     "data": {
      "text/plain": [
       "'The number is 0'"
      ]
     },
     "execution_count": 9,
     "metadata": {},
     "output_type": "execute_result"
    }
   ],
   "source": [
    "number = 0\n",
    "\n",
    "if number > 0:\n",
    "    output = \"The number is positive\"\n",
    "elif number < 0:\n",
    "    output = \"The number is negative\"\n",
    "else: \n",
    "    output = \"The number is 0\"\n",
    "\n",
    "output"
   ]
  },
  {
   "cell_type": "markdown",
   "metadata": {},
   "source": [
    "# Checking the Sign (reprise)\n",
    "\n",
    "**Problem:** Write a function to check if a number is positive or negative."
   ]
  },
  {
   "cell_type": "code",
   "execution_count": 35,
   "metadata": {},
   "outputs": [],
   "source": [
    "def check_number_positive(number: int) -> str:\n",
    "    if number > 0:\n",
    "        output = \"The number is positive\"\n",
    "    elif number < 0:\n",
    "        output = \"The number is negative\"\n",
    "    else:\n",
    "        output = \"The number is zero\"\n",
    "        \n",
    "    return output\n",
    "\n",
    "check_number_positive(0)\n"
   ]
  },
  {
   "cell_type": "markdown",
   "metadata": {},
   "source": [
    "Let's take a moment to think about functions more: https://www.menti.com/rcsyu11e5q"
   ]
  },
  {
   "cell_type": "markdown",
   "metadata": {},
   "source": [
    "# Repeating a String\n",
    "\n",
    "**Problem:** Repeat a given string.\n",
    "\n",
    "Let's analyse those functions. Which ones are correct?"
   ]
  },
  {
   "cell_type": "code",
   "execution_count": 14,
   "metadata": {},
   "outputs": [],
   "source": [
    "# Function 1\n",
    "def RepeatIt(thing):\n",
    "    return thing+thing\n",
    "\n",
    "# Function 2\n",
    "def repeat_it(string):\n",
    "    string*2\n",
    "      \n",
    "# Function 3 \n",
    "def repeat_string_once2(string):\n",
    "    return 'string' + 'string'\n",
    "\n",
    "# Function 4 \n",
    "def repeat_string_once(string):\n",
    "    return string*2\n",
    "\n",
    "# Function 5 \n",
    "def repeat(s):\n",
    "    new_s = s + s\n",
    "    return new_s"
   ]
  },
  {
   "cell_type": "code",
   "execution_count": 15,
   "metadata": {},
   "outputs": [
    {
     "data": {
      "text/plain": [
       "'hellohello'"
      ]
     },
     "execution_count": 15,
     "metadata": {},
     "output_type": "execute_result"
    }
   ],
   "source": [
    "# Let's try CALLING those functions!\n",
    "\n",
    "# repeat('Hello') + ' ' + repeat('World') + repeat('!')\n",
    "\n",
    "repeat_string_once(\"hello\")"
   ]
  },
  {
   "cell_type": "code",
   "execution_count": null,
   "metadata": {},
   "outputs": [],
   "source": []
  }
 ],
 "metadata": {
  "kernelspec": {
   "display_name": "Python 3 (ipykernel)",
   "language": "python",
   "name": "python3"
  },
  "language_info": {
   "codemirror_mode": {
    "name": "ipython",
    "version": 3
   },
   "file_extension": ".py",
   "mimetype": "text/x-python",
   "name": "python",
   "nbconvert_exporter": "python",
   "pygments_lexer": "ipython3",
   "version": "3.9.7"
  }
 },
 "nbformat": 4,
 "nbformat_minor": 4
}
