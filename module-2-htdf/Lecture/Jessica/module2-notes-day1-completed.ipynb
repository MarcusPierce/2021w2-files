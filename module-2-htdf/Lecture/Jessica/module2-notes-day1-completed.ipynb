{
 "cells": [
  {
   "cell_type": "code",
   "execution_count": null,
   "metadata": {},
   "outputs": [],
   "source": [
    "from cs103 import *"
   ]
  },
  {
   "cell_type": "markdown",
   "metadata": {},
   "source": [
    "# Module 2, Day 1 Notes\n",
    "\n",
    "Here is a summary of our How to Design Functions Recipe:\n",
    "\n",
    "1. Write:\n",
    "   1. the typecheck annotation,\n",
    "   2. signature,\n",
    "   3. purpose, and \n",
    "   4. stub (technically, the body of the stub).\n",
    "2. Write examples/tests\n",
    "3. Write or copy the template\n",
    "4. Code the function body\n",
    "5. Test and debug until correct"
   ]
  },
  {
   "cell_type": "markdown",
   "metadata": {},
   "source": [
    "## `meets_expectations` Quiz Problem\n",
    "\n",
    "Let's revisit the steps of: **Design a function that takes a string and determines whether or not it meets expectations. By expectations, we mean the word is a palindrome and is at least 5 characters long (i.e., there are at least 5 letters in the word). A palindrome is a word or phrase that reads the same backwards and forwards (e.g., level).**"
   ]
  },
  {
   "cell_type": "markdown",
   "metadata": {},
   "source": [
    "Written as markdown, since Python will produce an error if we try to run a def line with no body.\n",
    "\n",
    "(What error? `unexpected EOF while parsing`. Yuck. What does **that** mean? An \"EOF\" is an \"end of file\", or in this case, the end of a cell. \"Parsing\" is \"transforming your code-as-text into a sensible program\". So, Python is saying \"I expected something more before I could make sense of the code you wrote.\" In this case, that something more was the body of the function!)\n",
    "\n",
    "```python\n",
    "# First, we figure out the signature. \n",
    "\n",
    "@typecheck\n",
    "def meets_expectations(word: str) -> bool: # Why bool?\n",
    "```\n",
    "\n",
    "We chose `bool` as the return type because it is the standard Python way to represent a yes-or-no answer."
   ]
  },
  {
   "cell_type": "code",
   "execution_count": null,
   "metadata": {},
   "outputs": [],
   "source": [
    "# Next, the purpose. We should describe any important details, \n",
    "# including any design decisions we had to make! So, for example,\n",
    "# if you decided that \"meeting expectations\" means that it has to\n",
    "# meet some set of requirements, then \" return True if the word \n",
    "# meets our requiements\" is STILL a bad purpose because it's not\n",
    "# very clear about what our expectations are. return True if the \n",
    "# word is a palindrome with at least five characters, and False \n",
    "# otherwise\" is much better because we are clear about our \n",
    "# expectations.\n",
    "\n",
    "@typecheck\n",
    "def meets_expectations(word: str) -> bool:\n",
    "    \"\"\"\n",
    "    return True if the word is a palindrome with at least five \n",
    "    characters, and False otherwise\n",
    "    \"\"\""
   ]
  },
  {
   "cell_type": "code",
   "execution_count": null,
   "metadata": {},
   "outputs": [],
   "source": [
    "# Finally, the body of the stub, and I'm done with step one of the \n",
    "# recipe. The stub should always return a value that matches the\n",
    "# return type in the signature. Which value? It DOES NOT MATTER. \n",
    "# So, choose the easiest one you can think of to write :)\n",
    "#\n",
    "# That's often 0 for ints or floats, \"\" for strings, \n",
    "# and True or False as you prefer for bools.\n",
    "\n",
    "# Notice that the stub is NOT commented out. Later, we'll comment\n",
    "# it out, but for the examples/tests, we need it to run!\n",
    "\n",
    "@typecheck\n",
    "def meets_expectations(word: str) -> bool:\n",
    "    \"\"\"\n",
    "    return True if the word is a palindrome with at least five \n",
    "    characters, and False otherwise\n",
    "    \"\"\"\n",
    "    return True  #stub"
   ]
  },
  {
   "cell_type": "code",
   "execution_count": null,
   "metadata": {},
   "outputs": [],
   "source": [
    "# What goes next is NOT the template. We don't design functions\n",
    "# in the same order they eventually appear in the page, just like\n",
    "# you don't write a paper from the first word to the last or build\n",
    "# a building from the piece of material that goes lowest to the one\n",
    "# that goes highest.\n",
    "\n",
    "# Instead, we write our tests next so we can practice with what\n",
    "# it looks like to call the function, write out explicitly what we\n",
    "# expect that to produce, and get some practice with what the body\n",
    "# of the function might look like as well.\n",
    "\n",
    "@typecheck\n",
    "def meets_expectations(word: str) -> bool:\n",
    "    \"\"\"\n",
    "    return True if the word is a palindrome with at least five \n",
    "    characters, and False otherwise\n",
    "    \"\"\"\n",
    "    return True  #stub\n",
    "\n",
    "\n",
    "# How many tests should we have?\n",
    "# 1) Write a test by calling the function the first reasonable\n",
    "#    way you imagine.\n",
    "# 2) Write at least one more test to show how the function's \n",
    "#    behaviour changes if you chance the inputs (argument values).\n",
    "# 3) Think through if there are any special cases to illustrate.\n",
    "\n",
    "start_testing()\n",
    "\n",
    "expect(meets_expectations(\"red\")), False)     # word less than 5 characters and not a palindrome\n",
    "expect(meets_expectations(\"wow\")), False)     # word less than 5 characters and a palindrome\n",
    "\n",
    "expect(meets_expectations(\"university\")), False)     # word more than 5 characters and not a palindrome\n",
    "expect(meets_expectations(\"level\")), True)     # word exactly 5 characters and a palindrome\n",
    "\n",
    "# What if a word is exactly five characters? We should make sure\n",
    "# our code works in this special instance.\n",
    "expect(meets_expectations(\"puppy\")), False)     # word exactly 5 characters and not a palindrome\n",
    "expect(meets_expectations(\"racecar\")), True)     # word more than 5 characters and a palindrome\n",
    "\n",
    "summary()"
   ]
  },
  {
   "cell_type": "markdown",
   "metadata": {},
   "source": [
    "Written as markdown, since running this will produce an error. (It produces `'ellipsis' object is not callable`. An ellipsis is a \"...\". So, it's saying \"you wrote `...(i)` as if you wanted to call `...` like a function, but you cannot call `...` because it is not a function\". That's correct. The template isn't designed to be runnable!)\n",
    "\n",
    "```python\n",
    "# At this point if you were not in CPSC 103, you would DELETE the stub body,\n",
    "# write out the template, and then edit the template to get your implementation.\n",
    "# For GRADING PURPOSES ONLY, you instead comment out the stub body and make two\n",
    "# copies of the template: one for us and one for you to edit.\n",
    "@typecheck\n",
    "def meets_expectations(word: str) -> bool:\n",
    "    \"\"\"\n",
    "    return True if the word is a palindrome with at least five \n",
    "    characters, and False otherwise\n",
    "    \"\"\"\n",
    "    # return True  #stub\n",
    "    # return ...(word)  #template; a copy just for your friendly grader\n",
    "    return ...(word)   #template, ready to be edited into an implementation\n",
    "\n",
    "\n",
    "# How many tests should we have?\n",
    "# 1) Write a test by calling the function the first reasonable way you imagine.\n",
    "# 2) Write at least one more test to show how the function's behaviour changes\n",
    "#    if you chance the inputs (argument values).\n",
    "# 3) Think through if there are any special cases to illustrate.\n",
    "start_testing()\n",
    "\n",
    "expect(meets_expectations(\"red\")), False)     # word less than 5 characters and not a palindrome\n",
    "expect(meets_expectations(\"wow\")), False)     # word less than 5 characters and a palindrome\n",
    "\n",
    "expect(meets_expectations(\"university\")), False)     # word more than 5 characters and not a palindrome\n",
    "expect(meets_expectations(\"level\")), True)     # word exactly 5 characters and a palindrome\n",
    "\n",
    "# What if a word is exactly five characters? We should make sure\n",
    "# our code works in this special instance.\n",
    "expect(meets_expectations(\"puppy\")), False)     # word exactly 5 characters and not a palindrome\n",
    "expect(meets_expectations(\"racecar\")), True)     # word more than 5 characters and a palindrome\n",
    "\n",
    "summary()\n",
    "```"
   ]
  },
  {
   "cell_type": "code",
   "execution_count": null,
   "metadata": {},
   "outputs": [],
   "source": [
    "# Why return a bool? In Python, we represent the answers to \n",
    "# yes-or-no questions with bools. A bool is always a better choice \n",
    "# than the other options (like the strings \"yes\" and \"no\") for \n",
    "# that representation challenge.\n",
    "@typecheck\n",
    "def meets_expectations(word: str) -> bool:\n",
    "    \"\"\"\n",
    "    return True if the word is a palindrome with at least five \n",
    "    characters, and False otherwise\n",
    "    \"\"\"\n",
    "    # return True  #stub; return False would have been equally good\n",
    "    # return ...(word)  #template; for Module 2, just lists our parameters\n",
    "    \n",
    "    # You could solve this problem with an if/else statemnt. However,\n",
    "    # the code below already returns True when the image's height is\n",
    "    # larger than its width and False otherwise.\n",
    "    # See the Data Driven Templates page to determine what template you should use\n",
    "    \n",
    "    if len(word) >= 5:\n",
    "        # Only reaches here if the word is at least 5 characters long\n",
    "        # Now, let's check to see if it is a palindrome\n",
    "        if word == word[::-1]:\n",
    "            return True\n",
    "        else:\n",
    "            return False\n",
    "    else:\n",
    "        # Only reaches here if the word is less than 5 characters long\n",
    "        return False\n",
    "    \n",
    "# You should have tests for both the True and False cases \n",
    "start_testing()\n",
    "\n",
    "# We should certainly have at least one example that produces True \n",
    "# and one that produces False, or we're not really illustrating \n",
    "# what the function can do.\n",
    "expect(meets_expectations(\"red\")), False)     # word less than 5 characters and not a palindrome\n",
    "expect(meets_expectations(\"wow\")), False)     # word less than 5 characters and a palindrome\n",
    "\n",
    "expect(meets_expectations(\"university\")), False)     # word more than 5 characters and not a palindrome\n",
    "expect(meets_expectations(\"level\")), True)     # word exactly 5 characters and a palindrome\n",
    "\n",
    "# What if a word is exactly five characters? We should make sure\n",
    "# our code works in this special instance.\n",
    "expect(meets_expectations(\"puppy\")), False)     # word exactly 5 characters and not a palindrome\n",
    "expect(meets_expectations(\"racecar\")), True)     # word more than 5 characters and a palindrome\n",
    "\n",
    "summary()\n"
   ]
  },
  {
   "cell_type": "markdown",
   "metadata": {},
   "source": [
    "## The Worksheet \"multiply a number by 4\" Problem\n",
    "\n",
    "We'll work through these to get more practice with the recipe and to explain what we mean by the wording of these problems on the worksheet!\n",
    "\n",
    "The overarching problem is: **Design a function that multiplies a number by 4.**"
   ]
  },
  {
   "cell_type": "markdown",
   "metadata": {},
   "source": [
    "### \"circle the best signature and why you chose it\"\n",
    "1. `float -> 4*float`\n",
    "1. `number -> number`\n",
    "1. `float, float -> float`\n",
    "1. `float -> float`"
   ]
  },
  {
   "cell_type": "markdown",
   "metadata": {},
   "source": [
    "### \"what is the second-best response or explain why there is none? Is that second-best response good enough to be an acceptable design?\""
   ]
  },
  {
   "cell_type": "markdown",
   "metadata": {},
   "source": [
    "### \"write a clear and succinct purpose\""
   ]
  },
  {
   "cell_type": "markdown",
   "metadata": {},
   "source": [
    "### \"match [the function] with an appropriate stub body\"\n",
    "\n",
    "We're working on `def times_four(x):`\n",
    "\n",
    "Here are the options:\n",
    "+ `return False`\n",
    "+ `return radius`\n",
    "+ `return x`\n",
    "+ `return colour`\n",
    "+ `return square(1, 'solid', 'white')`"
   ]
  },
  {
   "cell_type": "markdown",
   "metadata": {},
   "source": [
    "## CPSC 103 d-tective 😜\n",
    "\n",
    "**Problem:** Design a function that determines if a string starts with\n",
    "the letter *d*."
   ]
  },
  {
   "cell_type": "code",
   "execution_count": null,
   "metadata": {},
   "outputs": [],
   "source": [
    "# Let's put our answer here!\n",
    "\n"
   ]
  }
 ],
 "metadata": {
  "kernelspec": {
   "display_name": "Python 3 (ipykernel)",
   "language": "python",
   "name": "python3"
  },
  "language_info": {
   "codemirror_mode": {
    "name": "ipython",
    "version": 3
   },
   "file_extension": ".py",
   "mimetype": "text/x-python",
   "name": "python",
   "nbconvert_exporter": "python",
   "pygments_lexer": "ipython3",
   "version": "3.9.9"
  }
 },
 "nbformat": 4,
 "nbformat_minor": 2
}
