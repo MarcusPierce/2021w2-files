{
 "cells": [
  {
   "cell_type": "code",
   "execution_count": 1,
   "metadata": {},
   "outputs": [],
   "source": [
    "# You must run this cell once before you run any of the other cells in this file\n",
    "\n",
    "# Needed (once per notebook) to enable incredible cs103 powers!!\n",
    "from cs103 import * \n",
    "\n",
    "# This indicates we are going to use some code from the date_fact.ipynb file\n",
    "from ipynb.fs.full.date_fact import *"
   ]
  },
  {
   "cell_type": "markdown",
   "metadata": {},
   "source": [
    "# Date Facts\n",
    "\n",
    "Let's check some fun facts that happened on a date. We will use the the API http://numbersapi.com/. Think of an API a way for us to communicate with another computer to get the information we need. \n",
    "\n",
    "The code inside the file `date_fact.py` gives us the following functions:\n",
    "\n",
    "- `get_date_fact(month: int, day: int) -> str`\n",
    "\n",
    "\n",
    "- `get_number_fact(number: int) -> str`\n",
    "\n",
    "\n",
    "- `get_year_fact(year: int) -> str`\n",
    "\n",
    "Before we dive in, though, what is a function? \n",
    "\n",
    "We'll define them many ways, and they'll be the heart of everything we do. For now, though, let's say that a function is \"something interesting the Python programming language knows how to do, which we can ask it to do by name\"."
   ]
  },
  {
   "cell_type": "code",
   "execution_count": null,
   "metadata": {
    "scrolled": true
   },
   "outputs": [],
   "source": [
    "# Get some trivia from the year you were born!\n"
   ]
  },
  {
   "cell_type": "markdown",
   "metadata": {},
   "source": [
    "# Quick Pause\n",
    "Notice how the output from the function does not include the year. \n",
    "\n",
    "The argument does not necessarily need to be included in the output of a function. We can include it if we want, but it is not mandated.\n",
    "\n",
    "Let's change the output to also include the year."
   ]
  },
  {
   "cell_type": "code",
   "execution_count": null,
   "metadata": {},
   "outputs": [],
   "source": []
  },
  {
   "cell_type": "markdown",
   "metadata": {},
   "source": [
    "# Changing Things Up\n",
    "What happens if we want to find facts from another year?\n",
    "\n",
    "Is there an easier way to change the value of the year without having to remember all the places the year appeared in?"
   ]
  },
  {
   "cell_type": "code",
   "execution_count": null,
   "metadata": {},
   "outputs": [],
   "source": []
  },
  {
   "cell_type": "markdown",
   "metadata": {},
   "source": [
    "# What Happened on Your Date of Birth?\n",
    "Write some code to find an event that happened on your birth date. Follow the same steps as before.\n",
    "\n",
    "1. Take a look at the names of the functions. Out of the three functions listed above, which one should we use?\n",
    "2. Take a look at the signature. What kind of information is the function asking for? What kind of data type is it?\n",
    "3. Try to call the function!"
   ]
  },
  {
   "cell_type": "code",
   "execution_count": null,
   "metadata": {},
   "outputs": [],
   "source": []
  },
  {
   "cell_type": "markdown",
   "metadata": {},
   "source": [
    "Now, try to include information about your date of birth before the fun fact! For example, if your birthday was on June 18 and the fact produced for this particular day is \"Shivaji, founder of the Maratha empire is crowned\", your code should produce \"On 6/18 Shivaji, founder of the Maratha empire is crowned\".\n",
    "\n",
    "Can you do this in a way that makes it easy for us to change the values for the birth month and day?"
   ]
  },
  {
   "cell_type": "code",
   "execution_count": null,
   "metadata": {},
   "outputs": [],
   "source": []
  },
  {
   "cell_type": "markdown",
   "metadata": {},
   "source": [
    "# Improving on Greatness\n",
    "Let's make the output better. \n",
    "\n",
    "Instead of using numbers to describe a month, let's use the month's name, i.e., instead of 6/18 let's write June 8."
   ]
  },
  {
   "cell_type": "code",
   "execution_count": null,
   "metadata": {},
   "outputs": [],
   "source": []
  },
  {
   "cell_type": "markdown",
   "metadata": {},
   "source": [
    "# Checking the Sign\n",
    "\n",
    "**Problem:** Check if a number is positive or negative."
   ]
  },
  {
   "cell_type": "code",
   "execution_count": null,
   "metadata": {},
   "outputs": [],
   "source": []
  },
  {
   "cell_type": "markdown",
   "metadata": {},
   "source": [
    "# Repeating a String\n",
    "\n",
    "**Problem:** Repeat a given string.\n",
    "\n",
    "Let's analyse those functions. Which ones are correct?"
   ]
  },
  {
   "cell_type": "code",
   "execution_count": null,
   "metadata": {},
   "outputs": [],
   "source": [
    "# Function 1\n",
    "def RepeatIt(thing):\n",
    "    return thing+thing\n",
    "\n",
    "# Function 2\n",
    "def repeat_it(string):\n",
    "    string*2\n",
    "      \n",
    "# Function 3\n",
    "def repeat_string_once2(string):\n",
    "    return 'string' + 'string'\n",
    "\n",
    "# Function 4\n",
    "def repeat_string_once(string):\n",
    "    return string*2\n",
    "\n",
    "# Function 5\n",
    "def repeat(s):\n",
    "    new_s = s + s\n",
    "    return new_s"
   ]
  },
  {
   "cell_type": "code",
   "execution_count": null,
   "metadata": {},
   "outputs": [],
   "source": [
    "# Let's try CALLING those functions!\n"
   ]
  }
 ],
 "metadata": {
  "kernelspec": {
   "display_name": "Python 3 (ipykernel)",
   "language": "python",
   "name": "python3"
  },
  "language_info": {
   "codemirror_mode": {
    "name": "ipython",
    "version": 3
   },
   "file_extension": ".py",
   "mimetype": "text/x-python",
   "name": "python",
   "nbconvert_exporter": "python",
   "pygments_lexer": "ipython3",
   "version": "3.9.9"
  }
 },
 "nbformat": 4,
 "nbformat_minor": 4
}
